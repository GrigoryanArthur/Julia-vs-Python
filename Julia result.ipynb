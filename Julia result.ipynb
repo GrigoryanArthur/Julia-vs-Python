{
 "cells": [
  {
   "cell_type": "code",
   "execution_count": 1,
   "id": "7a7bbd93",
   "metadata": {},
   "outputs": [],
   "source": [
    "using Distributions\n",
    "using StatsBase\n",
    "\n",
    "probs = Array{Float64}(undef, 5, 5)\n",
    "for i=1:5\n",
    "    probs[i,:]=rand(Dirichlet(5, 1))\n",
    "end\n",
    "\n",
    "states=[1,2,3,4,5]\n",
    "nrows=10000\n",
    "horizon_length=100\n",
    "\n",
    "initial_state=rand(1:5,1,nrows)\n",
    "forecast_states=zeros(nrows, horizon_length+1)\n",
    "\n",
    "@time begin\n",
    "    for j=2:horizon_length+1\n",
    "        for i=1:nrows\n",
    "            forecast_states[i,1]=sample(1:5, ProbabilityWeights(probs[initial_state[i],:]))\n",
    "            forecast_states[i,j]=sample(1:5, ProbabilityWeights(probs[floor(Int, forecast_states[i,j-1]),:]))\n",
    "        end\n",
    "    end\n",
    "end"
   ]
  }
 ],
 "metadata": {
  "kernelspec": {
   "display_name": "Julia 1.7.3",
   "language": "julia",
   "name": "julia-1.7"
  },
  "language_info": {
   "file_extension": ".jl",
   "mimetype": "application/julia",
   "name": "julia",
   "version": "1.7.3"
  }
 },
 "nbformat": 4,
 "nbformat_minor": 5
}
