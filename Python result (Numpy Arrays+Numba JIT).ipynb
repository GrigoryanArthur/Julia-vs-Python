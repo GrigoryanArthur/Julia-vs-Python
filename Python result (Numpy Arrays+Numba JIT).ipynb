{
 "cells": [
  {
   "cell_type": "code",
   "execution_count": 1,
   "id": "a60d9c87",
   "metadata": {},
   "outputs": [],
   "source": [
    "import numpy as np\n",
    "import random\n",
    "import time\n",
    "from numba import jit\n",
    "\n",
    "probs=np.random.dirichlet(np.ones(5),size=5)\n",
    "states=[1,2,3,4,5]\n",
    "nrows=10000\n",
    "horizon_length=100\n",
    "\n",
    "initial_state=np.random.randint(low=1, high=5, size=nrows)\n",
    "forecast_states=np.zeros(shape=(nrows, horizon_length+1))\n",
    "\n",
    "@jit\n",
    "def foo(initial_state, forecast_states, horizon_length, states, probs):\n",
    "    start_time=time.time()\n",
    "    for i in range(0, len(initial_state)):\n",
    "        for j in range(0, horizon_length+1):\n",
    "            forecast_states[i,0]=int(np.random.choice(states, size=1, p=probs[initial_state[i]]))\n",
    "            forecast_states[i,j]=int(np.random.choice(states, size=1, p=probs[int(forecast_states[i,j-1])-1]))\n",
    "    \n",
    "    return print(time.time()-start_time, \" seconds\")\n",
    "\n",
    "foo(initial_state, forecast_states, horizon_length, states, probs)"
   ]
  }
 ],
 "metadata": {
  "kernelspec": {
   "display_name": "Python 3 (ipykernel)",
   "language": "python",
   "name": "python3"
  },
  "language_info": {
   "codemirror_mode": {
    "name": "ipython",
    "version": 3
   },
   "file_extension": ".py",
   "mimetype": "text/x-python",
   "name": "python",
   "nbconvert_exporter": "python",
   "pygments_lexer": "ipython3",
   "version": "3.9.7"
  }
 },
 "nbformat": 4,
 "nbformat_minor": 5
}
