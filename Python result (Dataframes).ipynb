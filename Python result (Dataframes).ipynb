{
 "cells": [
  {
   "cell_type": "code",
   "execution_count": 1,
   "id": "12e09568",
   "metadata": {},
   "outputs": [
    {
     "name": "stdout",
     "output_type": "stream",
     "text": [
      "327.9959337711334  seconds\n"
     ]
    }
   ],
   "source": [
    "import numpy as np\n",
    "import pandas as pd\n",
    "import random\n",
    "import time\n",
    "\n",
    "probs=np.random.dirichlet(np.ones(5),size=5)\n",
    "states=[1,2,3,4,5]\n",
    "nrows=10000\n",
    "horizon_length=100\n",
    "\n",
    "initial_state=pd.DataFrame(np.random.randint(low=1, high=5, size=nrows))\n",
    "forecast_states=pd.DataFrame(np.zeros(shape=(nrows, horizon_length+1)))\n",
    "\n",
    "start_time=time.time()\n",
    "for i in range(0, len(initial_state)):\n",
    "    for j in range(0, horizon_length+1):\n",
    "        forecast_states.iloc[i,0]=int(np.random.choice(states, size=1, p=probs[initial_state.iloc[i][0]]))\n",
    "        forecast_states.iloc[i,j]=int(np.random.choice(states, size=1, p=probs[int(forecast_states.iloc[i,j-1])-1]))\n",
    "        \n",
    "print(time.time()-start_time, \" seconds\")"
   ]
  },
  {
   "cell_type": "code",
   "execution_count": null,
   "id": "33bb4200",
   "metadata": {},
   "outputs": [],
   "source": []
  }
 ],
 "metadata": {
  "kernelspec": {
   "display_name": "Python 3 (ipykernel)",
   "language": "python",
   "name": "python3"
  },
  "language_info": {
   "codemirror_mode": {
    "name": "ipython",
    "version": 3
   },
   "file_extension": ".py",
   "mimetype": "text/x-python",
   "name": "python",
   "nbconvert_exporter": "python",
   "pygments_lexer": "ipython3",
   "version": "3.9.7"
  }
 },
 "nbformat": 4,
 "nbformat_minor": 5
}
